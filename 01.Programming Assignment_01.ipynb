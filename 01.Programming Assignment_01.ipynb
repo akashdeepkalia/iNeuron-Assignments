{
 "cells": [
  {
   "cell_type": "markdown",
   "id": "b3489d83-e026-48a0-904c-cfdb270ea080",
   "metadata": {},
   "source": [
    "# Programming Assignment 1"
   ]
  },
  {
   "cell_type": "markdown",
   "id": "87fb3e0c-310d-40c8-a905-3d87d12e3e92",
   "metadata": {},
   "source": [
    "#### 1.Write a Python program to print 'Hello Python' ?"
   ]
  },
  {
   "cell_type": "code",
   "execution_count": 2,
   "id": "61e0dadf-3aa3-4bd4-9c06-8e88706f3b2d",
   "metadata": {},
   "outputs": [
    {
     "name": "stdout",
     "output_type": "stream",
     "text": [
      "Hello Python\n"
     ]
    }
   ],
   "source": [
    "print(\"Hello Python\")"
   ]
  },
  {
   "cell_type": "markdown",
   "id": "b9569e82-3a43-4eac-884b-e44d8115bf26",
   "metadata": {},
   "source": [
    "#### 2.Write a Python program to do arithmetic operations addition and division ?"
   ]
  },
  {
   "cell_type": "code",
   "execution_count": 20,
   "id": "b2ed0872-4d75-48cc-9a77-63a283fae308",
   "metadata": {},
   "outputs": [
    {
     "name": "stdout",
     "output_type": "stream",
     "text": [
      "\n",
      "       Select your operator : \n",
      "\n",
      "       1. Addition (+) \n",
      "\n",
      "       2. Subtract (-) \n",
      "\n",
      "       3. Multiply (*) \n",
      "\n",
      "       4. Division (/) \n",
      "\n",
      "       \n"
     ]
    },
    {
     "name": "stdin",
     "output_type": "stream",
     "text": [
      "Enter your required operator :  -\n",
      "Enter First Number Here ->  6\n",
      "Enter Second Number Here ->  2\n"
     ]
    },
    {
     "name": "stdout",
     "output_type": "stream",
     "text": [
      " Output : 6 - 2 = 4\n"
     ]
    }
   ],
   "source": [
    "import operator\n",
    "op = { \"+\" : operator.add, \"-\" : operator.sub, \"*\" : operator.mul, \"/\" : operator.truediv }\n",
    "\n",
    "print(\"\"\"\n",
    "       Select your operator : \\n\n",
    "       1. Addition (+) \\n\n",
    "       2. Subtract (-) \\n\n",
    "       3. Multiply (*) \\n\n",
    "       4. Division (/) \\n\n",
    "       \"\"\"\n",
    "    )\n",
    "opInput = input(\"Enter your required operator : \")\n",
    "num_1 = int(input(\"Enter First Number Here -> \"))\n",
    "num_2 = int(input(\"Enter Second Number Here -> \"))\n",
    "result = op[opInput](num_1,num_2)\n",
    "print(f\"Output : {num_1} {opInput} {num_2} = {result}\")"
   ]
  },
  {
   "cell_type": "markdown",
   "id": "6aa63023-c3ea-42d9-a4f0-17ac36b7e05d",
   "metadata": {},
   "source": [
    "#### 3.Write a Python program to find the area of a triangle ?"
   ]
  },
  {
   "cell_type": "code",
   "execution_count": 22,
   "id": "fee8006f-2a80-4d6d-bdf3-15c579ccbef3",
   "metadata": {},
   "outputs": [
    {
     "name": "stdin",
     "output_type": "stream",
     "text": [
      "Emter height of triangle:  25\n",
      "Emter base of triangle:  2\n"
     ]
    },
    {
     "name": "stdout",
     "output_type": "stream",
     "text": [
      "\n",
      " Area of triangle is :  25.0\n"
     ]
    }
   ],
   "source": [
    "ht = int(input(\"Emter height of triangle: \"))\n",
    "bs = int(input(\"Emter base of triangle: \"))\n",
    "print(\"\\n Area of triangle is : \",0.5*ht*bs)"
   ]
  },
  {
   "cell_type": "markdown",
   "id": "20bbf580-4c24-4ce6-ac8a-2706cf40d056",
   "metadata": {},
   "source": [
    "#### 4.Write a Python program to swap two variables ?\n"
   ]
  },
  {
   "cell_type": "code",
   "execution_count": 23,
   "id": "435c56ce-71c4-4eb0-882f-b9aeae51de8d",
   "metadata": {},
   "outputs": [
    {
     "name": "stdin",
     "output_type": "stream",
     "text": [
      "Enter 1st number :  2\n",
      "Enter 2nd number :  3\n"
     ]
    },
    {
     "name": "stdout",
     "output_type": "stream",
     "text": [
      "\n",
      " Swaped variables are : a = 3, b = 2\n"
     ]
    }
   ],
   "source": [
    "def swap(a,b):\n",
    "    temp = a\n",
    "    a = b\n",
    "    b = temp\n",
    "    print(\"\\n Swaped variables are : a = {}, b = {}\".format(a,b))\n",
    "    \n",
    "a = int(input(\"Enter 1st number : \"))\n",
    "b = int(input(\"Enter 2nd number : \"))\n",
    "swap(a,b)"
   ]
  },
  {
   "cell_type": "markdown",
   "id": "71d209a5-82a9-459f-9d4b-844f9fe01c62",
   "metadata": {},
   "source": [
    "#### 5.Write a Python program to generate a random number ?\n"
   ]
  },
  {
   "cell_type": "code",
   "execution_count": 27,
   "id": "2646f58d-3977-4f7d-abad-79b3a68c4695",
   "metadata": {},
   "outputs": [
    {
     "name": "stdout",
     "output_type": "stream",
     "text": [
      "Random Number is :  337\n"
     ]
    }
   ],
   "source": [
    "import random\n",
    "\n",
    "def generateRandomNumber(start=0, end=999):\n",
    "    print(\"Random Number is : \", random.randint(start,end))\n",
    "\n",
    "generateRandomNumber()"
   ]
  }
 ],
 "metadata": {
  "kernelspec": {
   "display_name": "Python 3 (ipykernel)",
   "language": "python",
   "name": "python3"
  },
  "language_info": {
   "codemirror_mode": {
    "name": "ipython",
    "version": 3
   },
   "file_extension": ".py",
   "mimetype": "text/x-python",
   "name": "python",
   "nbconvert_exporter": "python",
   "pygments_lexer": "ipython3",
   "version": "3.12.4"
  }
 },
 "nbformat": 4,
 "nbformat_minor": 5
}
