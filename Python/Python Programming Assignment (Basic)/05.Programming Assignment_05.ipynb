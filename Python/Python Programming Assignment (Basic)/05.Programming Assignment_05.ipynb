{
 "cells": [
  {
   "cell_type": "markdown",
   "id": "785f6014-f8b5-44ce-8192-d183ee09ec98",
   "metadata": {},
   "source": [
    "# Programming Assignment 5"
   ]
  },
  {
   "cell_type": "markdown",
   "id": "3313d4ce-3278-4ad9-9193-ac407fa5447e",
   "metadata": {},
   "source": [
    "#### 1. Write a Python Program to find LCM ?\n"
   ]
  },
  {
   "cell_type": "code",
   "execution_count": 5,
   "id": "64ae5476-2856-4366-b3cb-faa965a7942d",
   "metadata": {},
   "outputs": [
    {
     "name": "stdout",
     "output_type": "stream",
     "text": [
      "LCM of 5 and 2 is 10\n"
     ]
    }
   ],
   "source": [
    "def findLCM(a,b):\n",
    "    lcm = 0\n",
    "    greater = 0\n",
    "    if a > b:\n",
    "        greater = a\n",
    "    else:\n",
    "        greater = b\n",
    "\n",
    "    while True:\n",
    "        if greater%a == 0 and greater%b == 0:\n",
    "            lcm = greater\n",
    "            break\n",
    "        greater += 1\n",
    "    print(f\"LCM of {a} and {b} is {lcm}\")\n",
    "\n",
    "findLCM(5,2)"
   ]
  },
  {
   "cell_type": "markdown",
   "id": "e5eb593c-f5a4-4826-8769-cb924e40e729",
   "metadata": {},
   "source": [
    "#### 2. Write a Python Program to find HCF ?\n"
   ]
  },
  {
   "cell_type": "code",
   "execution_count": 14,
   "id": "fe374838-a4b1-4f56-99e4-3e81a40c801b",
   "metadata": {},
   "outputs": [
    {
     "name": "stdout",
     "output_type": "stream",
     "text": [
      "HCF of 8 and 12 is 4\n"
     ]
    }
   ],
   "source": [
    "def findHCF(a,b):\n",
    "    hcf = 0\n",
    "    smaller = 0\n",
    "    if a > b:\n",
    "        smaller = b\n",
    "    else:\n",
    "        smaller = a\n",
    "\n",
    "    for i in range(1,smaller+1):\n",
    "        if a%i==0 and b%i==0:\n",
    "            hcf = i\n",
    "    print(f\"HCF of {a} and {b} is {hcf}\")\n",
    "\n",
    "findHCF(8,12)"
   ]
  },
  {
   "cell_type": "markdown",
   "id": "2dc89ac0-bed0-40c2-aef4-66fa610b9786",
   "metadata": {},
   "source": [
    "#### 3. Write a Python Program to Convert Decimal to Binary, Octal and Hexadecimal ?\n",
    "\n"
   ]
  },
  {
   "cell_type": "code",
   "execution_count": 21,
   "id": "78440427-993f-48c8-be16-8afaf1dd1c64",
   "metadata": {},
   "outputs": [
    {
     "name": "stdin",
     "output_type": "stream",
     "text": [
      "Enter number here : 15\n"
     ]
    },
    {
     "name": "stdout",
     "output_type": "stream",
     "text": [
      "Binary represention of 15 is : 1111\n",
      "Hexadecimal represention of 15 is : f\n",
      "Octal represention of 15 is : 17\n"
     ]
    }
   ],
   "source": [
    "def convertDecimalToOthers(n):\n",
    "    print(f\"Binary represention of {n} is : {bin(n)[2:]}\")\n",
    "    print(f\"Hexadecimal represention of {n} is : {hex(n)[2:]}\")\n",
    "    print(f\"Octal represention of {n} is : {oct(n)[2:]}\")\n",
    "\n",
    "    \n",
    "    \n",
    "n = int(input(\"Enter number here :\"))\n",
    "convertDecimalToOthers(n)"
   ]
  },
  {
   "cell_type": "markdown",
   "id": "fddaa515-45a9-4c7d-93e2-37ea9f465976",
   "metadata": {},
   "source": [
    "#### 4. Write a Python Program to Find the ASCII value of a Character ?"
   ]
  },
  {
   "cell_type": "code",
   "execution_count": 24,
   "id": "f9980d72-b6ad-436d-88d4-2d9e96fe3eea",
   "metadata": {},
   "outputs": [
    {
     "name": "stdin",
     "output_type": "stream",
     "text": [
      "Enter number here : A\n"
     ]
    },
    {
     "name": "stdout",
     "output_type": "stream",
     "text": [
      "ASCII value of A is 65\n"
     ]
    }
   ],
   "source": [
    "def findASCII(n):\n",
    "    print(f\"ASCII value of {n} is {ord(n)}\")\n",
    "\n",
    "n = input(\"Enter number here :\")\n",
    "findASCII(n)"
   ]
  },
  {
   "cell_type": "markdown",
   "id": "3f6a4b29-19dc-4c68-ba71-a178ae364fd0",
   "metadata": {},
   "source": [
    "#### 5. Write a Python Program to Make a Simple Calculator with 4 Basic Mathematical operations ?\n"
   ]
  },
  {
   "cell_type": "code",
   "execution_count": 28,
   "id": "a65d0d9f-fb0d-4929-992f-e5d5828d2a9f",
   "metadata": {},
   "outputs": [
    {
     "name": "stdout",
     "output_type": "stream",
     "text": [
      "\n",
      "       Select your operator : \n",
      "\n",
      "       1. Addition (+) \n",
      "\n",
      "       2. Subtract (-) \n",
      "\n",
      "       3. Multiply (*) \n",
      "\n",
      "       4. Division (/) \n",
      "\n",
      "       \n"
     ]
    },
    {
     "name": "stdin",
     "output_type": "stream",
     "text": [
      "Enter your required operator :  -\n",
      "Enter First Number Here ->  12\n",
      "Enter Second Number Here ->  15\n"
     ]
    },
    {
     "name": "stdout",
     "output_type": "stream",
     "text": [
      "Error!\n"
     ]
    }
   ],
   "source": [
    "import operator\n",
    "op = { \"+\" : operator.add, \"-\" : operator.sub, \"*\" : operator.mul, \"/\" : operator.truediv }\n",
    "\n",
    "print(\"\"\"\n",
    "       Select your operator : \\n\n",
    "       1. Addition (+) \\n\n",
    "       2. Subtract (-) \\n\n",
    "       3. Multiply (*) \\n\n",
    "       4. Division (/) \\n\n",
    "       \"\"\"\n",
    "    )\n",
    "opInput = input(\"Enter your required operator : \")\n",
    "num_1 = int(input(\"Enter First Number Here -> \"))\n",
    "num_2 = int(input(\"Enter Second Number Here -> \"))\n",
    "result = op[opInput](num_1,num_2)\n",
    "if opInput == \"-\":\n",
    "    if num_1 >= num_2:\n",
    "        print(f\"Output : {num_1} {opInput} {num_2} = {result}\")\n",
    "    else: \n",
    "        print(\"Error! First number should be greater than second\")\n",
    "else:\n",
    "    print(f\"Output : {num_1} {opInput} {num_2} = {result}\")"
   ]
  },
  {
   "cell_type": "code",
   "execution_count": null,
   "id": "29e16a6d-62bd-48b2-98a2-6e7ff9954576",
   "metadata": {},
   "outputs": [],
   "source": []
  }
 ],
 "metadata": {
  "kernelspec": {
   "display_name": "Python 3 (ipykernel)",
   "language": "python",
   "name": "python3"
  },
  "language_info": {
   "codemirror_mode": {
    "name": "ipython",
    "version": 3
   },
   "file_extension": ".py",
   "mimetype": "text/x-python",
   "name": "python",
   "nbconvert_exporter": "python",
   "pygments_lexer": "ipython3",
   "version": "3.12.4"
  }
 },
 "nbformat": 4,
 "nbformat_minor": 5
}
