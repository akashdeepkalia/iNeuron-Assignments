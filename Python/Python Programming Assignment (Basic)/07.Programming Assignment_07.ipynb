{
 "cells": [
  {
   "cell_type": "markdown",
   "id": "925c41f1-0870-4416-8079-c97407536c40",
   "metadata": {},
   "source": [
    "# Programming Assignment 7"
   ]
  },
  {
   "cell_type": "markdown",
   "id": "d486ca90-3004-4231-b631-622668fa3749",
   "metadata": {},
   "source": [
    "## 1.Write a Python Program to find sum of elements in a list ?\n"
   ]
  },
  {
   "cell_type": "code",
   "execution_count": 4,
   "id": "5fbeb24a-d768-4276-9cf8-2798a3672dc3",
   "metadata": {},
   "outputs": [
    {
     "name": "stdout",
     "output_type": "stream",
     "text": [
      "Sum of list [1, 2, 3, 4, 5] is 15\n"
     ]
    }
   ],
   "source": [
    "def sumOfList(a):\n",
    "    sum=0\n",
    "    for i in range(len(a)+1):\n",
    "        sum += i\n",
    "    print(f\"Sum of list {a} is {sum}\")\n",
    "a = [1,2,3,4,5]\n",
    "sumOfList(a)"
   ]
  },
  {
   "cell_type": "markdown",
   "id": "1f546304-820d-4eee-996c-263c293c5ea3",
   "metadata": {},
   "source": [
    "## "
   ]
  }
 ],
 "metadata": {
  "kernelspec": {
   "display_name": "Python 3 (ipykernel)",
   "language": "python",
   "name": "python3"
  },
  "language_info": {
   "codemirror_mode": {
    "name": "ipython",
    "version": 3
   },
   "file_extension": ".py",
   "mimetype": "text/x-python",
   "name": "python",
   "nbconvert_exporter": "python",
   "pygments_lexer": "ipython3",
   "version": "3.12.4"
  }
 },
 "nbformat": 4,
 "nbformat_minor": 5
}
