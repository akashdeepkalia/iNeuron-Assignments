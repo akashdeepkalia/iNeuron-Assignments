{
 "cells": [
  {
   "cell_type": "markdown",
   "id": "a29def84-0fe8-403f-9a63-b76bbe29ebd5",
   "metadata": {},
   "source": [
    "# Programming Assignment 6"
   ]
  },
  {
   "cell_type": "markdown",
   "id": "96651ccd-5b49-46c9-b141-94e2947579ad",
   "metadata": {},
   "source": [
    "#### 1. Write a Python Program to find sum of Array ?\n"
   ]
  },
  {
   "cell_type": "code",
   "execution_count": 2,
   "id": "e7b70228-45d5-4b77-ab40-cf73ac6b70b4",
   "metadata": {},
   "outputs": [
    {
     "name": "stdout",
     "output_type": "stream",
     "text": [
      "Sum of array [1, 2, 3, 4, 5] is :  15\n"
     ]
    }
   ],
   "source": [
    "def sumArray(a):\n",
    "    sum = 0\n",
    "    for i in a:\n",
    "        sum += i\n",
    "    print(f\"Sum of array {a} is : \", sum)\n",
    "\n",
    "sumArray([1,2,3,4,5])"
   ]
  },
  {
   "cell_type": "markdown",
   "id": "70cf9370-6425-4878-8762-b8c5c668215c",
   "metadata": {},
   "source": [
    "#### 2. Write a Python Program to find Largest element in an Array ?\n"
   ]
  },
  {
   "cell_type": "code",
   "execution_count": 5,
   "id": "a72c12b9-af6e-4370-8cb6-de53ed2de677",
   "metadata": {},
   "outputs": [
    {
     "name": "stdout",
     "output_type": "stream",
     "text": [
      "Largest element is array [1, 2, 3, 4, 8, 5] is : 8\n"
     ]
    }
   ],
   "source": [
    "def largestEle(a):\n",
    "    ele = 0\n",
    "    for i in a:\n",
    "        if ele < i:\n",
    "            ele = i\n",
    "        else:\n",
    "            continue\n",
    "    print(f\"Largest element is array {a} is : {ele}\")\n",
    "largestEle([1,2,3,4,8,5])"
   ]
  },
  {
   "cell_type": "markdown",
   "id": "a80bd326-3140-46c8-a917-5c910c9d6a43",
   "metadata": {},
   "source": [
    "#### 3. Write a Python Program for array rotation ?\n"
   ]
  },
  {
   "cell_type": "code",
   "execution_count": 16,
   "id": "2ebe2d43-cbd0-4f8e-88a8-1064ca992dd6",
   "metadata": {},
   "outputs": [
    {
     "name": "stdout",
     "output_type": "stream",
     "text": [
      "Reversed array of [1, 2, 3, 4, 5, 6] is : [6, 5, 4, 3, 2, 1]\n"
     ]
    }
   ],
   "source": [
    "def arrayRotation(a):\n",
    "    k = []\n",
    "    for i in range(1,len(a)+1):\n",
    "        k.append(a[-i])\n",
    "    print(f\"Reversed array of {a} is : {k}\")\n",
    "\n",
    "l = [1,2,3,4,5,6]\n",
    "arrayRotation(l)"
   ]
  },
  {
   "cell_type": "code",
   "execution_count": 19,
   "id": "23003ca3-5eea-420b-a224-6b7183669749",
   "metadata": {},
   "outputs": [
    {
     "name": "stdout",
     "output_type": "stream",
     "text": [
      "[9, 8, 7, 6, 5]\n"
     ]
    }
   ],
   "source": [
    "# With in same \n",
    "a = [5,6,7,8,9]\n",
    "a = a[::-1]\n",
    "print(a)"
   ]
  },
  {
   "cell_type": "markdown",
   "id": "f493d6af-c27c-4671-a623-583d358d70de",
   "metadata": {},
   "source": [
    "#### 4. Write a Python Program to Split the array and add the first part to the end ?\n"
   ]
  },
  {
   "cell_type": "code",
   "execution_count": 52,
   "id": "cc127760-1009-451d-8565-9e230f4d590a",
   "metadata": {},
   "outputs": [
    {
     "name": "stdout",
     "output_type": "stream",
     "text": [
      "[1, 2, 3, 5, 7, 9]\n"
     ]
    }
   ],
   "source": [
    "def splitAndAdd(a):\n",
    "    subArray = []\n",
    "    for i in range(len(a)//2):\n",
    "        subArray.append(a[i])\n",
    "\n",
    "    t = (len(a)+2)//2\n",
    "\n",
    "    endArray = []\n",
    "    for i in range(1,t):\n",
    "        endArray.append(a[-i]+subArray[-i])\n",
    "        \n",
    "    for i in range(1,len(subArray)+1):\n",
    "        subArray.append(endArray[-i])\n",
    "\n",
    "    print(subArray)\n",
    "l = [1,2,3,4,5,6]\n",
    "splitAndAdd(l)"
   ]
  },
  {
   "cell_type": "markdown",
   "id": "876af24c-076c-4c6f-a50e-324f714231e5",
   "metadata": {},
   "source": [
    "#### 5. Write a Python Program to check if given array is Monotonic ?\n"
   ]
  },
  {
   "cell_type": "code",
   "execution_count": 67,
   "id": "2205f6c3-5d15-4578-9454-112eb033e078",
   "metadata": {},
   "outputs": [
    {
     "name": "stdout",
     "output_type": "stream",
     "text": [
      "Array [1, 2, 3, 4, 5, 6, 7, 8, 9, 10] is Monotonic\n"
     ]
    }
   ],
   "source": [
    "def checkMonotonic(a):\n",
    "    length = len(a)\n",
    "    flag = True\n",
    "    for i in range(length-1):\n",
    "        if a[i] < a[i+1]:\n",
    "            continue\n",
    "        else:\n",
    "            flag = False\n",
    "            break\n",
    "    if flag:\n",
    "        print(f\"Array {a} is Monotonic\")\n",
    "    else:\n",
    "        print(f\"Array {a} is Not-Monotonic\")\n",
    "\n",
    "\n",
    "checkMonotonic([1,2,3,4,5,6,7,8,9,10])"
   ]
  },
  {
   "cell_type": "code",
   "execution_count": null,
   "id": "b09576b7-3388-4f6c-abc1-5d62b11c3b87",
   "metadata": {},
   "outputs": [],
   "source": []
  }
 ],
 "metadata": {
  "kernelspec": {
   "display_name": "Python 3 (ipykernel)",
   "language": "python",
   "name": "python3"
  },
  "language_info": {
   "codemirror_mode": {
    "name": "ipython",
    "version": 3
   },
   "file_extension": ".py",
   "mimetype": "text/x-python",
   "name": "python",
   "nbconvert_exporter": "python",
   "pygments_lexer": "ipython3",
   "version": "3.12.4"
  }
 },
 "nbformat": 4,
 "nbformat_minor": 5
}
