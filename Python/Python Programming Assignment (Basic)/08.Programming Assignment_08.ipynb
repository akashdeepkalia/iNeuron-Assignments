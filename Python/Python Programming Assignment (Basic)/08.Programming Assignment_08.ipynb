{
 "cells": [
  {
   "cell_type": "markdown",
   "id": "aa27c25d-b3b3-4918-a6ad-b8805bb251b5",
   "metadata": {},
   "source": [
    "# Programming Assignment 8"
   ]
  },
  {
   "cell_type": "markdown",
   "id": "d168f6dd-a482-4d68-882a-d2a264756aad",
   "metadata": {},
   "source": [
    "### 1.Write a Python Program to check if the given number is a Disarium Number ?\n"
   ]
  },
  {
   "cell_type": "code",
   "execution_count": 32,
   "id": "c861275b-019f-4861-a4b6-7187b6e9025b",
   "metadata": {},
   "outputs": [],
   "source": [
    "def checkDisariumNumber(n):\n",
    "    s = 0\n",
    "    for i in range(len(n)):\n",
    "        a = int(n[i])\n",
    "        s += a**(i+1)\n",
    "    if n == str(s):\n",
    "        print(f\"\\n{n} is Disarium Number\")\n",
    "    else:\n",
    "        print(f\"\\n{n} is not Disarium Number\")"
   ]
  },
  {
   "cell_type": "code",
   "execution_count": 33,
   "id": "668f8186-4e26-42db-ac0b-d3b20a78c46f",
   "metadata": {},
   "outputs": [
    {
     "name": "stdin",
     "output_type": "stream",
     "text": [
      "Enter your number here :  135\n"
     ]
    },
    {
     "name": "stdout",
     "output_type": "stream",
     "text": [
      "\n",
      "135 is Disarium Number\n"
     ]
    }
   ],
   "source": [
    "n = input(\"Enter your number here : \")\n",
    "checkDisariumNumber(n)"
   ]
  },
  {
   "cell_type": "markdown",
   "id": "188d2657-da5d-4bc6-b9a7-2707334d64c2",
   "metadata": {},
   "source": [
    "### 2.Write a Python Program to print all Disarium numbers between 1 to 100 ?\n"
   ]
  },
  {
   "cell_type": "code",
   "execution_count": 60,
   "id": "0be53095-870c-432e-a569-c18cf35dae06",
   "metadata": {},
   "outputs": [],
   "source": [
    "def disariumNumbers(start=1,end=100):\n",
    "    num = []\n",
    "    for i in range(start,end):\n",
    "        s = 0\n",
    "        x = str(i)\n",
    "        for j in range(len(x)):\n",
    "            a = int(x[j])\n",
    "            s += a**(j+1)\n",
    "        \n",
    "        if i == s:\n",
    "            num.append(i)\n",
    "\n",
    "    print(num)"
   ]
  },
  {
   "cell_type": "code",
   "execution_count": 61,
   "id": "c0b784ea-4da1-4e55-8ffb-a5dcb57a2bd1",
   "metadata": {},
   "outputs": [
    {
     "name": "stdout",
     "output_type": "stream",
     "text": [
      "[1, 2, 3, 4, 5, 6, 7, 8, 9, 89]\n"
     ]
    }
   ],
   "source": [
    "disariumNumbers()"
   ]
  },
  {
   "cell_type": "markdown",
   "id": "151e9ea4-589b-4694-9c08-25aee4020383",
   "metadata": {},
   "source": [
    "### 3.Write a Python Program to check if the given number is Happy Number ?\n"
   ]
  },
  {
   "cell_type": "code",
   "execution_count": 107,
   "id": "23773e88-eedc-4345-875d-354a5ba53d34",
   "metadata": {},
   "outputs": [
    {
     "name": "stdin",
     "output_type": "stream",
     "text": [
      "Enter number here :  25\n"
     ]
    },
    {
     "name": "stdout",
     "output_type": "stream",
     "text": [
      "4\n",
      "Not Happy Number\n"
     ]
    }
   ],
   "source": [
    "def sumOfNumber(n):\n",
    "    sum = 0\n",
    "    while(n):\n",
    "        d = n%10\n",
    "        sum += d*d\n",
    "        n = n//10\n",
    "    return sum\n",
    "\n",
    "def checkHappyNumber(n):\n",
    "    while n > 10:        # Helps to find number is single digit or not\n",
    "        n = sumOfNumber(n)\n",
    "#    print(n)\n",
    "    if n==1:\n",
    "        print(\"Happy Number\")\n",
    "    else:\n",
    "        print(\"Not Happy Number\")\n",
    "        \n",
    "n = int(input(\"Enter number here : \"))\n",
    "checkHappyNumber(n)"
   ]
  },
  {
   "cell_type": "markdown",
   "id": "3de77e8a-1be8-42d0-b795-6641526eba13",
   "metadata": {},
   "source": [
    "### 5.Write a Python Program to determine whether the given number is a Harshad Number ?\n"
   ]
  },
  {
   "cell_type": "code",
   "execution_count": 111,
   "id": "178a558d-1002-4aae-8a3a-d0ca0255432f",
   "metadata": {},
   "outputs": [
    {
     "name": "stdin",
     "output_type": "stream",
     "text": [
      "Enter numnber here :  18\n"
     ]
    },
    {
     "name": "stdout",
     "output_type": "stream",
     "text": [
      "18 is Harshad Number\n"
     ]
    }
   ],
   "source": [
    "def sumOfNumber(n):\n",
    "    sum = 0\n",
    "    while(n):\n",
    "        d = n%10\n",
    "        sum += d\n",
    "        n = n//10\n",
    "    return sum\n",
    "    \n",
    "def checkHarshadNumber(n):\n",
    "    s = sumOfNumber(n)\n",
    "    if n%s == 0:\n",
    "        print(f\"{n} is Harshad Number\")\n",
    "    else:\n",
    "        print(f\"{n} is Not Harshad Number\")\n",
    "        \n",
    "n = int(input(\"Enter numnber here : \"))\n",
    "checkHarshadNumber(n)"
   ]
  },
  {
   "cell_type": "code",
   "execution_count": null,
   "id": "631de1f7-2b51-412b-b29f-d4cfdce7706a",
   "metadata": {},
   "outputs": [],
   "source": []
  }
 ],
 "metadata": {
  "kernelspec": {
   "display_name": "Python 3 (ipykernel)",
   "language": "python",
   "name": "python3"
  },
  "language_info": {
   "codemirror_mode": {
    "name": "ipython",
    "version": 3
   },
   "file_extension": ".py",
   "mimetype": "text/x-python",
   "name": "python",
   "nbconvert_exporter": "python",
   "pygments_lexer": "ipython3",
   "version": "3.12.4"
  }
 },
 "nbformat": 4,
 "nbformat_minor": 5
}
