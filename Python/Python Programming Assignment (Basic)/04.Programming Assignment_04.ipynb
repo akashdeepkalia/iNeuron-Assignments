{
 "cells": [
  {
   "cell_type": "markdown",
   "id": "982226aa-46ed-47d3-b47a-678327575c3f",
   "metadata": {},
   "source": [
    "# Programming Assignment 4"
   ]
  },
  {
   "cell_type": "markdown",
   "id": "23a05b48-96b5-4bc3-bb12-235fa084de17",
   "metadata": {},
   "source": [
    "#### 1.Write a Python Program to find the factorial of a number ?\n"
   ]
  },
  {
   "cell_type": "code",
   "execution_count": 4,
   "id": "807efb1d-6c44-4ae3-810c-d0e2a1ac1fbf",
   "metadata": {},
   "outputs": [
    {
     "name": "stdin",
     "output_type": "stream",
     "text": [
      "Enter number here :  5\n"
     ]
    },
    {
     "name": "stdout",
     "output_type": "stream",
     "text": [
      "Factorial of 5 is 120\n"
     ]
    }
   ],
   "source": [
    "def factorial(a):\n",
    "    res = 1\n",
    "    for i in range(1,a+1):\n",
    "        res *= i\n",
    "    print(f\"Factorial of {a} is {res}\")\n",
    "\n",
    "n = int(input(\"Enter number here : \"))\n",
    "factorial(n)"
   ]
  },
  {
   "cell_type": "markdown",
   "id": "ca278b08-b323-4eba-ba0a-a62d34c41715",
   "metadata": {},
   "source": [
    "#### 2.Write a Python Program to display the multiplication table ?\n"
   ]
  },
  {
   "cell_type": "code",
   "execution_count": 1,
   "id": "a9f37fa3-cd68-42a8-94da-8e2167d40d0d",
   "metadata": {},
   "outputs": [
    {
     "name": "stdin",
     "output_type": "stream",
     "text": [
      "Enter number here :  10\n"
     ]
    },
    {
     "name": "stdout",
     "output_type": "stream",
     "text": [
      "10 x 1 = 10\n",
      "10 x 2 = 20\n",
      "10 x 3 = 30\n",
      "10 x 4 = 40\n",
      "10 x 5 = 50\n",
      "10 x 6 = 60\n",
      "10 x 7 = 70\n",
      "10 x 8 = 80\n",
      "10 x 9 = 90\n",
      "10 x 10 = 100\n"
     ]
    }
   ],
   "source": [
    "def tabel(a):\n",
    "    for i in range(1,11):\n",
    "        print(f\"{a} x {i} = {a*i}\")\n",
    "n = int(input(\"Enter number here : \"))\n",
    "tabel(n)"
   ]
  },
  {
   "cell_type": "markdown",
   "id": "e15267d3-422f-4f4f-930d-a31684d518dd",
   "metadata": {},
   "source": [
    "#### 3.Write a Python Program to print the fibonacci sequence ?\n"
   ]
  },
  {
   "cell_type": "code",
   "execution_count": 9,
   "id": "820764b5-438b-4e39-9c67-8e34dd71dec6",
   "metadata": {},
   "outputs": [
    {
     "name": "stdin",
     "output_type": "stream",
     "text": [
      "Enter number here :  10\n"
     ]
    },
    {
     "name": "stdout",
     "output_type": "stream",
     "text": [
      "0 1 1 2 3 5 8 13 21 34 "
     ]
    }
   ],
   "source": [
    "def fibonacci(n):\n",
    "    a = 0\n",
    "    b = 1\n",
    "    # print(a)\n",
    "    # print(b)\n",
    "    for i in range(0,n):\n",
    "        print(a, end=\" \")\n",
    "        c = a+b\n",
    "        a=b\n",
    "        b=c\n",
    "    \n",
    "n = int(input(\"Enter number here : \"))\n",
    "fibonacci(n)"
   ]
  },
  {
   "cell_type": "markdown",
   "id": "d038640c-fcc0-44da-bc92-29e8dd87eb7b",
   "metadata": {},
   "source": [
    "#### 4.Write a Python Program to check Armstrong number ?\n"
   ]
  },
  {
   "cell_type": "code",
   "execution_count": 18,
   "id": "1d580438-b6ff-449f-ba98-8f0b29b31ef0",
   "metadata": {},
   "outputs": [
    {
     "name": "stdin",
     "output_type": "stream",
     "text": [
      "Enter no. here :  123\n"
     ]
    },
    {
     "name": "stdout",
     "output_type": "stream",
     "text": [
      "Result is :  36\n",
      "[-] 123 is Not-Armstrong Number\n"
     ]
    }
   ],
   "source": [
    "# def convertStrToInt(n):\n",
    "#     l = list()\n",
    "#     for i in n:\n",
    "#         l.append(int(i))\n",
    "#     return l\n",
    "    \n",
    "def checkArmstrong(n):\n",
    "    # l_int = convertStrToInt(n)\n",
    "    res = 0\n",
    "    for i in n:\n",
    "        res += int(i)**3\n",
    "    print(\"Result is : \",res)\n",
    "\n",
    "    if res == int(n):\n",
    "        print(f\"[+] {n} is Armstrong Number\")\n",
    "    else:\n",
    "        print(f\"[-] {n} is Not-Armstrong Number\")\n",
    "\n",
    "n = input(\"Enter no. here : \")\n",
    "checkArmstrong(n)"
   ]
  },
  {
   "cell_type": "markdown",
   "id": "2ec44e8e-0038-44c4-9440-5a1902496f94",
   "metadata": {},
   "source": [
    "#### 5.Write a Python Program to Find Armstrong number in an interval ?\n"
   ]
  },
  {
   "cell_type": "code",
   "execution_count": 22,
   "id": "1c5bb7d7-2f30-47ce-be5f-a48eb1de4f79",
   "metadata": {},
   "outputs": [
    {
     "name": "stdin",
     "output_type": "stream",
     "text": [
      "Enter starting no. here :  0\n",
      "Enter ending no. here :  999\n"
     ]
    },
    {
     "name": "stdout",
     "output_type": "stream",
     "text": [
      "[0, 1, 153, 370, 371, 407]\n"
     ]
    }
   ],
   "source": [
    "def findArmstrong(s,e):\n",
    "    num=[]\n",
    "    for i in range(s,e+1):\n",
    "        res = 0\n",
    "        for j in str(i):\n",
    "            res += int(j)**3\n",
    "        if res == i:\n",
    "            num.append(i)\n",
    "        else:\n",
    "            continue\n",
    "    print(num)\n",
    "            \n",
    "\n",
    "s = int(input(\"Enter starting no. here : \"))\n",
    "e = int(input(\"Enter ending no. here : \"))\n",
    "findArmstrong(s,e)"
   ]
  },
  {
   "cell_type": "code",
   "execution_count": null,
   "id": "fbca5d85-5c18-4761-a6c6-f974598fede6",
   "metadata": {},
   "outputs": [],
   "source": []
  }
 ],
 "metadata": {
  "kernelspec": {
   "display_name": "Python 3 (ipykernel)",
   "language": "python",
   "name": "python3"
  },
  "language_info": {
   "codemirror_mode": {
    "name": "ipython",
    "version": 3
   },
   "file_extension": ".py",
   "mimetype": "text/x-python",
   "name": "python",
   "nbconvert_exporter": "python",
   "pygments_lexer": "ipython3",
   "version": "3.12.4"
  }
 },
 "nbformat": 4,
 "nbformat_minor": 5
}
