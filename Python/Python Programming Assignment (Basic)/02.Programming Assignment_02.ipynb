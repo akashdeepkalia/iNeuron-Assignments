{
 "cells": [
  {
   "cell_type": "markdown",
   "id": "28c8b7c9-1c6d-45bc-bb46-03d6c7b497bb",
   "metadata": {},
   "source": [
    "# Programming Assignment 2"
   ]
  },
  {
   "cell_type": "markdown",
   "id": "236ff512-7268-4628-ab92-84d89263e18b",
   "metadata": {},
   "source": [
    "#### 1.Write a Python program to convert Kilometers to Miles ?\n"
   ]
  },
  {
   "cell_type": "code",
   "execution_count": 3,
   "id": "9d4830a8-4940-404f-b882-95fb8ffb2d80",
   "metadata": {},
   "outputs": [
    {
     "name": "stdin",
     "output_type": "stream",
     "text": [
      "Enter distance in Km to convert into Miles :  3\n"
     ]
    },
    {
     "name": "stdout",
     "output_type": "stream",
     "text": [
      "\n",
      " 3 Km = 1.8641130000000001 Miles\n"
     ]
    }
   ],
   "source": [
    "def convertKmToMiles(distance):\n",
    "    print(f\"\\n {distance} Km = {distance*0.621371} Miles\")\n",
    "\n",
    "dis = int(input(\"Enter distance in Km to convert into Miles : \"))\n",
    "convertKmToMiles(dis)"
   ]
  },
  {
   "cell_type": "markdown",
   "id": "4b9b04fd-f729-4508-b74a-1bed3fe50ca0",
   "metadata": {},
   "source": [
    "#### 2.Write a Python program to convert Celsius to Farenheit ?\n"
   ]
  },
  {
   "cell_type": "code",
   "execution_count": 4,
   "id": "4471e76a-7214-47e8-b29b-81e59eb750ec",
   "metadata": {},
   "outputs": [
    {
     "name": "stdin",
     "output_type": "stream",
     "text": [
      "Enter temperature in Celsius to convert into Farenheit :  2\n"
     ]
    },
    {
     "name": "stdout",
     "output_type": "stream",
     "text": [
      "\n",
      " 2 celsius = 64 farenheit\n"
     ]
    }
   ],
   "source": [
    "def celsiusToFarenheit(temp):\n",
    "    print(f\"\\n {temp} celsius = {temp*32} farenheit\")\n",
    "\n",
    "temp = int(input(\"Enter temperature in Celsius to convert into Farenheit : \"))\n",
    "celsiusToFarenheit(temp)"
   ]
  },
  {
   "cell_type": "markdown",
   "id": "774d25e8-1562-4b5c-8fef-f44547056e4b",
   "metadata": {},
   "source": [
    "#### 3.Write a Python program to display calender ?\n"
   ]
  },
  {
   "cell_type": "code",
   "execution_count": 9,
   "id": "aa140fd5-819f-4e5e-a3b5-43a11fa049b3",
   "metadata": {},
   "outputs": [
    {
     "name": "stdout",
     "output_type": "stream",
     "text": [
      "                                  2024\n",
      "\n",
      "      January                   February                   March\n",
      "Mo Tu We Th Fr Sa Su      Mo Tu We Th Fr Sa Su      Mo Tu We Th Fr Sa Su\n",
      " 1  2  3  4  5  6  7                1  2  3  4                   1  2  3\n",
      " 8  9 10 11 12 13 14       5  6  7  8  9 10 11       4  5  6  7  8  9 10\n",
      "15 16 17 18 19 20 21      12 13 14 15 16 17 18      11 12 13 14 15 16 17\n",
      "22 23 24 25 26 27 28      19 20 21 22 23 24 25      18 19 20 21 22 23 24\n",
      "29 30 31                  26 27 28 29               25 26 27 28 29 30 31\n",
      "\n",
      "       April                      May                       June\n",
      "Mo Tu We Th Fr Sa Su      Mo Tu We Th Fr Sa Su      Mo Tu We Th Fr Sa Su\n",
      " 1  2  3  4  5  6  7             1  2  3  4  5                      1  2\n",
      " 8  9 10 11 12 13 14       6  7  8  9 10 11 12       3  4  5  6  7  8  9\n",
      "15 16 17 18 19 20 21      13 14 15 16 17 18 19      10 11 12 13 14 15 16\n",
      "22 23 24 25 26 27 28      20 21 22 23 24 25 26      17 18 19 20 21 22 23\n",
      "29 30                     27 28 29 30 31            24 25 26 27 28 29 30\n",
      "\n",
      "        July                     August                  September\n",
      "Mo Tu We Th Fr Sa Su      Mo Tu We Th Fr Sa Su      Mo Tu We Th Fr Sa Su\n",
      " 1  2  3  4  5  6  7                1  2  3  4                         1\n",
      " 8  9 10 11 12 13 14       5  6  7  8  9 10 11       2  3  4  5  6  7  8\n",
      "15 16 17 18 19 20 21      12 13 14 15 16 17 18       9 10 11 12 13 14 15\n",
      "22 23 24 25 26 27 28      19 20 21 22 23 24 25      16 17 18 19 20 21 22\n",
      "29 30 31                  26 27 28 29 30 31         23 24 25 26 27 28 29\n",
      "                                                    30\n",
      "\n",
      "      October                   November                  December\n",
      "Mo Tu We Th Fr Sa Su      Mo Tu We Th Fr Sa Su      Mo Tu We Th Fr Sa Su\n",
      "    1  2  3  4  5  6                   1  2  3                         1\n",
      " 7  8  9 10 11 12 13       4  5  6  7  8  9 10       2  3  4  5  6  7  8\n",
      "14 15 16 17 18 19 20      11 12 13 14 15 16 17       9 10 11 12 13 14 15\n",
      "21 22 23 24 25 26 27      18 19 20 21 22 23 24      16 17 18 19 20 21 22\n",
      "28 29 30 31               25 26 27 28 29 30         23 24 25 26 27 28 29\n",
      "                                                    30 31\n",
      "\n"
     ]
    }
   ],
   "source": [
    "import calendar\n",
    "yy = 2024\n",
    "mm = 8\n",
    "print(calendar.calendar(2024))"
   ]
  },
  {
   "cell_type": "markdown",
   "id": "76de6347-86a8-4f69-9a22-0c165087e4e5",
   "metadata": {},
   "source": [
    "#### 4. Write a Python program to swap two variables without temp variable ?\n",
    "\n"
   ]
  },
  {
   "cell_type": "code",
   "execution_count": 10,
   "id": "9f6e1b7b-887d-44b6-a9e3-acf976e44d8d",
   "metadata": {},
   "outputs": [
    {
     "name": "stdin",
     "output_type": "stream",
     "text": [
      "Enter 1st number :  5\n",
      "Enter 2nd number :  10\n"
     ]
    },
    {
     "name": "stdout",
     "output_type": "stream",
     "text": [
      "\n",
      " Original numbers are : a = 5 adn b = 10\n",
      "\n",
      " Swaped numbers are : a = 10 adn b = 5\n"
     ]
    }
   ],
   "source": [
    "def swapNumbers(a,b):\n",
    "    a = a+b\n",
    "    b = a-b\n",
    "    a = a-b\n",
    "    print(f\"\\n Swaped numbers are : a = {a} adn b = {b}\")\n",
    "\n",
    "a = int(input(\"Enter 1st number : \"))\n",
    "b = int(input(\"Enter 2nd number : \"))\n",
    "print(f\"\\n Original numbers are : a = {a} adn b = {b}\")\n",
    "swapNumbers(a,b)"
   ]
  },
  {
   "cell_type": "markdown",
   "id": "70662933-d383-4964-a16b-db1a6e50e1f7",
   "metadata": {},
   "source": [
    "#### 5.Write a Python Program to sum of natural numbers ?"
   ]
  },
  {
   "cell_type": "code",
   "execution_count": 2,
   "id": "5c592bc7-4878-40a0-9387-8c843c5c1dde",
   "metadata": {},
   "outputs": [
    {
     "name": "stdin",
     "output_type": "stream",
     "text": [
      "Enter number :  5\n"
     ]
    },
    {
     "name": "stdout",
     "output_type": "stream",
     "text": [
      "15.0\n"
     ]
    }
   ],
   "source": [
    "n = int(input(\"Enter number : \"))\n",
    "print(n*((n+1)/2))"
   ]
  },
  {
   "cell_type": "code",
   "execution_count": null,
   "id": "2939beb9-e683-4076-a1fa-306d7b0fa690",
   "metadata": {},
   "outputs": [],
   "source": []
  }
 ],
 "metadata": {
  "kernelspec": {
   "display_name": "Python 3 (ipykernel)",
   "language": "python",
   "name": "python3"
  },
  "language_info": {
   "codemirror_mode": {
    "name": "ipython",
    "version": 3
   },
   "file_extension": ".py",
   "mimetype": "text/x-python",
   "name": "python",
   "nbconvert_exporter": "python",
   "pygments_lexer": "ipython3",
   "version": "3.12.4"
  }
 },
 "nbformat": 4,
 "nbformat_minor": 5
}
